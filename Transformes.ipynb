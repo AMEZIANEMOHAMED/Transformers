{
  "nbformat": 4,
  "nbformat_minor": 5,
  "metadata": {
    "kernelspec": {
      "name": "python3",
      "display_name": "Python 3",
      "language": "python"
    },
    "language_info": {
      "name": "python",
      "version": "3.7.10",
      "mimetype": "text/x-python",
      "codemirror_mode": {
        "name": "ipython",
        "version": 3
      },
      "pygments_lexer": "ipython3",
      "nbconvert_exporter": "python",
      "file_extension": ".py"
    },
    "colab": {
      "name": "NLP_TP-Transformers.ipynb",
      "provenance": [],
      "collapsed_sections": []
    }
  },
  "cells": [
    {
      "cell_type": "markdown",
      "metadata": {
        "id": "4fc265b0"
      },
      "source": [
        "#Transformers \n"
      ],
      "id": "4fc265b0"
    },
    {
      "cell_type": "markdown",
      "metadata": {
        "id": "145be2de"
      },
      "source": [
        "### Sentiment analysis"
      ],
      "id": "145be2de"
    },
    {
      "cell_type": "code",
      "metadata": {
        "colab": {
          "base_uri": "https://localhost:8080/"
        },
        "id": "583ef981",
        "trusted": false,
        "outputId": "cdd30284-a61c-4aac-9412-dfc9e552c2ff"
      },
      "source": [
        "!pip install transformers "
      ],
      "id": "583ef981",
      "execution_count": 3,
      "outputs": [
        {
          "output_type": "stream",
          "text": [
            "Requirement already satisfied: transformers in /usr/local/lib/python3.7/dist-packages (4.9.0)\n",
            "Requirement already satisfied: numpy>=1.17 in /usr/local/lib/python3.7/dist-packages (from transformers) (1.19.5)\n",
            "Requirement already satisfied: pyyaml>=5.1 in /usr/local/lib/python3.7/dist-packages (from transformers) (5.4.1)\n",
            "Requirement already satisfied: filelock in /usr/local/lib/python3.7/dist-packages (from transformers) (3.0.12)\n",
            "Requirement already satisfied: huggingface-hub==0.0.12 in /usr/local/lib/python3.7/dist-packages (from transformers) (0.0.12)\n",
            "Requirement already satisfied: tqdm>=4.27 in /usr/local/lib/python3.7/dist-packages (from transformers) (4.41.1)\n",
            "Requirement already satisfied: importlib-metadata in /usr/local/lib/python3.7/dist-packages (from transformers) (4.6.1)\n",
            "Requirement already satisfied: sacremoses in /usr/local/lib/python3.7/dist-packages (from transformers) (0.0.45)\n",
            "Requirement already satisfied: packaging in /usr/local/lib/python3.7/dist-packages (from transformers) (21.0)\n",
            "Requirement already satisfied: tokenizers<0.11,>=0.10.1 in /usr/local/lib/python3.7/dist-packages (from transformers) (0.10.3)\n",
            "Requirement already satisfied: requests in /usr/local/lib/python3.7/dist-packages (from transformers) (2.23.0)\n",
            "Requirement already satisfied: regex!=2019.12.17 in /usr/local/lib/python3.7/dist-packages (from transformers) (2019.12.20)\n",
            "Requirement already satisfied: typing-extensions in /usr/local/lib/python3.7/dist-packages (from huggingface-hub==0.0.12->transformers) (3.7.4.3)\n",
            "Requirement already satisfied: pyparsing>=2.0.2 in /usr/local/lib/python3.7/dist-packages (from packaging->transformers) (2.4.7)\n",
            "Requirement already satisfied: zipp>=0.5 in /usr/local/lib/python3.7/dist-packages (from importlib-metadata->transformers) (3.5.0)\n",
            "Requirement already satisfied: idna<3,>=2.5 in /usr/local/lib/python3.7/dist-packages (from requests->transformers) (2.10)\n",
            "Requirement already satisfied: certifi>=2017.4.17 in /usr/local/lib/python3.7/dist-packages (from requests->transformers) (2021.5.30)\n",
            "Requirement already satisfied: chardet<4,>=3.0.2 in /usr/local/lib/python3.7/dist-packages (from requests->transformers) (3.0.4)\n",
            "Requirement already satisfied: urllib3!=1.25.0,!=1.25.1,<1.26,>=1.21.1 in /usr/local/lib/python3.7/dist-packages (from requests->transformers) (1.24.3)\n",
            "Requirement already satisfied: six in /usr/local/lib/python3.7/dist-packages (from sacremoses->transformers) (1.15.0)\n",
            "Requirement already satisfied: click in /usr/local/lib/python3.7/dist-packages (from sacremoses->transformers) (7.1.2)\n",
            "Requirement already satisfied: joblib in /usr/local/lib/python3.7/dist-packages (from sacremoses->transformers) (1.0.1)\n"
          ],
          "name": "stdout"
        }
      ]
    },
    {
      "cell_type": "code",
      "metadata": {
        "scrolled": true,
        "colab": {
          "base_uri": "https://localhost:8080/"
        },
        "id": "10e24977",
        "trusted": false,
        "outputId": "e63256b3-7bba-4e48-c5a9-33f231a8339d"
      },
      "source": [
        "from transformers import pipeline\n",
        "\n",
        "nlp = pipeline(\"sentiment-analysis\", model=\"nlptown/bert-base-multilingual-uncased-sentiment\")\n",
        "\n",
        "result = nlp(\"bien reçu\")[0]\n",
        "print(result)\n",
        "print(f\"label: {result['label']}, with score: {round(result['score']*100, 2)}%\")\n",
        "\n",
        "result = nlp(\"mauvais remarque\")[0]\n",
        "print(f\"label: {result['label']}, with score: {round(result['score']*100, 2)}%\")"
      ],
      "id": "10e24977",
      "execution_count": 4,
      "outputs": [
        {
          "output_type": "stream",
          "text": [
            "{'label': '4 stars', 'score': 0.42931947112083435}\n",
            "label: 4 stars, with score: 42.93%\n",
            "label: 1 star, with score: 57.96%\n"
          ],
          "name": "stdout"
        }
      ]
    },
    {
      "cell_type": "markdown",
      "metadata": {
        "id": "80f031f4"
      },
      "source": [
        "##Text generation"
      ],
      "id": "80f031f4"
    },
    {
      "cell_type": "code",
      "metadata": {
        "scrolled": true,
        "id": "4668bfb2",
        "trusted": false
      },
      "source": [
        "from transformers import pipeline"
      ],
      "id": "4668bfb2",
      "execution_count": null,
      "outputs": []
    },
    {
      "cell_type": "code",
      "metadata": {
        "id": "63bf964e",
        "trusted": false
      },
      "source": [
        "# Francais\n",
        "TXT_GEN_FR = pipeline('text-generation', model='dbddv01/gpt2-french-small')\n",
        "\n",
        "print(TXT_GEN_FR(\"je parle avec\", max_length=50, do_sample=False))"
      ],
      "id": "63bf964e",
      "execution_count": null,
      "outputs": []
    },
    {
      "cell_type": "code",
      "metadata": {
        "id": "bc8556ac",
        "trusted": false
      },
      "source": [
        "# Arabe\n",
        "TXT_GEN_AR = pipeline('text-generation', model='akhooli/gpt2-small-arabic')\n",
        "print(TXT_GEN_AR(\"تعتبر مدينة الرباط\", max_length=50, do_sample=False))\n"
      ],
      "id": "bc8556ac",
      "execution_count": null,
      "outputs": []
    },
    {
      "cell_type": "markdown",
      "metadata": {
        "id": "1af36c17"
      },
      "source": [
        "## Name entity recognition (NER)"
      ],
      "id": "1af36c17"
    },
    {
      "cell_type": "code",
      "metadata": {
        "id": "3a2364c9",
        "trusted": false
      },
      "source": [
        "\n",
        "from transformers import AutoTokenizer, AutoModelForTokenClassification\n",
        "from transformers import pipeline\n",
        "\n",
        "NER_ENG_REC = pipeline(\"ner\", model=\"dslim/bert-base-NER\", tokenizer=\"dslim/bert-base-NER\")\n",
        "NER_AR_REC = pipeline(\"ner\", model=\"hatmimoha/arabic-ner\", tokenizer=\"hatmimoha/arabic-ner\")\n",
        "NER_FR_REC = pipeline(\"ner\", model=\"gilf/french-postag-model\", tokenizer=\"gilf/french-postag-model\")\n",
        "\n",
        "print(NER_AR_REC(\"تعتبر مدينة الرباط\"))\n",
        " \n",
        "print(NER_ENG_REC(\"good job\"))\n",
        "\n",
        "print(NER_FR_REC(\"je parle avec\"))"
      ],
      "id": "3a2364c9",
      "execution_count": null,
      "outputs": []
    },
    {
      "cell_type": "markdown",
      "metadata": {
        "id": "dff416e2"
      },
      "source": [
        "## 04- Question answering"
      ],
      "id": "dff416e2"
    },
    {
      "cell_type": "code",
      "metadata": {
        "id": "511e712a",
        "trusted": false
      },
      "source": [
        "from transformers import pipeline\n",
        "Ques_Answ = pipeline(\"question-answering\")\n",
        "context = \"\"\"\n",
        "La Mauritanie, en forme longue la République islamique de Mauritanie est un État d'Afrique du Nord-Ouest, situé entre 15 et 27 degrés de latitude nord et 5 et 17 degrés de longitude ouest..\n",
        "\"\"\"\n",
        "Question = \"Quelle est La Mauritanie?\"\n",
        "Result = Ques_Answ(question=Question, context=context)\n",
        "print(\"Reponse:\", Result['answer'])\n",
        "\n",
        "\n"
      ],
      "id": "511e712a",
      "execution_count": null,
      "outputs": []
    },
    {
      "cell_type": "markdown",
      "metadata": {
        "id": "c9a9c291"
      },
      "source": [
        "## Filling masked text"
      ],
      "id": "c9a9c291"
    },
    {
      "cell_type": "code",
      "metadata": {
        "scrolled": true,
        "id": "3c913305",
        "trusted": false
      },
      "source": [
        "from transformers import pipeline\n",
        "\n",
        "nlp = pipeline(\"fill-mask\")\n",
        "\n",
        "from pprint import pprint\n",
        "pprint(nlp(f\"Les coronavirus sont des {nlp.tokenizer.mask_token} de la famille des Coronaviridae.\"))\n",
        "\n"
      ],
      "id": "3c913305",
      "execution_count": null,
      "outputs": []
    },
    {
      "cell_type": "code",
      "metadata": {
        "id": "cc8ba494",
        "trusted": false
      },
      "source": [
        "#Arabic\n",
        "arabic_fill_mask = pipeline('fill-mask', model='CAMeL-Lab/bert-base-camelbert-ca')\n",
        "pprint(arabic_fill_mask(\"سكان كلميمة يحذرون من استنزاف [MASK]‬ الفرشة المائية .\"))"
      ],
      "id": "cc8ba494",
      "execution_count": null,
      "outputs": []
    },
    {
      "cell_type": "markdown",
      "metadata": {
        "id": "6f56d9cc"
      },
      "source": [
        "## Summarization"
      ],
      "id": "6f56d9cc"
    },
    {
      "cell_type": "code",
      "metadata": {
        "id": "6186b099",
        "trusted": false
      },
      "source": [
        "from transformers import pipeline\n",
        "\n",
        "summarizer = pipeline(\"summarization\")\n",
        "\n",
        "ARTICLE = \"\"\" \n",
        "La Mauritanie, en forme longue la République islamique de Mauritanie est un État d'Afrique du Nord-Ouest, situé entre 15 et 27 degrés de latitude nord et 5 et 17 degrés de longitude ouest.\n",
        "\"\"\"\n",
        "print(summarizer(ARTICLE, max_length=130, min_length=30, do_sample=False))"
      ],
      "id": "6186b099",
      "execution_count": null,
      "outputs": []
    },
    {
      "cell_type": "markdown",
      "metadata": {
        "id": "d3e5558b"
      },
      "source": [
        "## Translation"
      ],
      "id": "d3e5558b"
    },
    {
      "cell_type": "code",
      "metadata": {
        "scrolled": true,
        "id": "5269606b",
        "trusted": false
      },
      "source": [
        "from transformers import pipeline\n",
        "# English to french\n",
        "translator = pipeline(\"translation_en_to_fr\")\n",
        "from transformers import AutoTokenizer, AutoModelForSeq2SeqLM\n",
        "\n",
        "pprint(translator(\"The country's name derives from the name of the ancient Berber kingdom of Mauretania, located in present-day Morocco and Algeria.\", max_length=40))\n"
      ],
      "id": "5269606b",
      "execution_count": null,
      "outputs": []
    },
    {
      "cell_type": "code",
      "metadata": {
        "id": "a7451bc5",
        "trusted": false
      },
      "source": [
        "# english to Arabic\n",
        "\n",
        "from transformers import MarianTokenizer, MarianMTModel\n",
        "\n",
        "tokenizer = MarianTokenizer.from_pretrained(\"marefa-nlp/marefa-mt-en-ar\")\n",
        "model = MarianMTModel.from_pretrained(\"marefa-nlp/marefa-mt-en-ar\")\n",
        "\n",
        "text = \"The country's name derives from the name of the ancient Berber kingdom of Mauretania, located in present-day Morocco and Algeria.\"\n",
        "\n",
        "translated_tokens = model.generate(**tokenizer.prepare_seq2seq_batch(text, return_tensors=\"pt\"))\n",
        "Output_text = [tokenizer.decode(t, skip_special_tokens=True) for t in translated_tokens]\n",
        "\n",
        "print(Output_text)"
      ],
      "id": "a7451bc5",
      "execution_count": null,
      "outputs": []
    },
    {
      "cell_type": "code",
      "metadata": {
        "id": "e032ce8d",
        "trusted": false
      },
      "source": [
        "# Arabic to English\n",
        "from transformers import MBartForConditionalGeneration, MBart50TokenizerFast\n",
        "\n",
        "text_ar = \"الجمهورية الإسلامية الموريتانية\"\n",
        "\n",
        "model = MBartForConditionalGeneration.from_pretrained(\"facebook/mbart-large-50-many-to-many-mmt\")\n",
        "tokenizer = MBart50TokenizerFast.from_pretrained(\"facebook/mbart-large-50-many-to-many-mmt\")\n",
        "tokenizer.src_lang = \"ar_AR\"\n",
        "encoded_ar = tokenizer(text_ar, return_tensors=\"pt\")\n",
        "generated_tokens = model.generate(**encoded_ar, forced_bos_token_id=tokenizer.lang_code_to_id[\"en_XX\"])\n",
        "pprint(tokenizer.batch_decode(generated_tokens, skip_special_tokens=True))\n"
      ],
      "id": "e032ce8d",
      "execution_count": null,
      "outputs": []
    },
    {
      "cell_type": "markdown",
      "metadata": {
        "id": "7531300a"
      },
      "source": [
        "## Feature extraction"
      ],
      "id": "7531300a"
    },
    {
      "cell_type": "code",
      "metadata": {
        "colab": {
          "base_uri": "https://localhost:8080/"
        },
        "id": "f397f772",
        "trusted": false,
        "outputId": "95acfbb8-6695-4392-9b77-31b591688dc4"
      },
      "source": [
        "from sklearn.feature_extraction.text import CountVectorizer\n",
        "\n",
        "# sentences.\n",
        "sentences = [\n",
        "    \"its very easy\",\n",
        "    \"you can use it \",\n",
        "    \"You are a very good software engineer, engineer.\",]\n",
        "\n",
        "vectorizer = CountVectorizer(stop_words='english')\n",
        "\n",
        "vectorizer.fit(sentences)\n",
        "\n",
        "vectorizer.get_feature_names()"
      ],
      "id": "f397f772",
      "execution_count": 2,
      "outputs": [
        {
          "output_type": "execute_result",
          "data": {
            "text/plain": [
              "['easy', 'engineer', 'good', 'software', 'use']"
            ]
          },
          "metadata": {
            "tags": []
          },
          "execution_count": 2
        }
      ]
    }
  ]
}